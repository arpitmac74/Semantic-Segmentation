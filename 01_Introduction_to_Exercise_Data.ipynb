{
  "cells": [
    {
      "cell_type": "markdown",
      "metadata": {
        "colab_type": "text",
        "id": "rjYBjJWWnwyv"
      },
      "source": [
        "# **Welcome to the Covera Health Exercise for AI Computer Vision**\n",
        "\n",
        "Here's a quick notebook for you to look at the images. \n",
        "There is a loader in data.py that screens for cases within the root folder that is passed using data.set_root() As the folder is parsed, basic stats are computed on the cases.\n",
        "\n",
        "The loader returns random slice of a randomly picked case with the associated ground truth, if any. \n",
        "\n",
        "Finally, the utils.py file contains method display the loaded slice and overlay the ground truth if any.\n",
        "\n",
        "This is just an example to get you started but feel free to use/ load the data any way you want. \n",
        "\n",
        "Best of luck!\n",
        "\n",
        "\n",
        "\n"
      ]
    },
    {
      "cell_type": "markdown",
      "metadata": {
        "colab_type": "text",
        "id": "Pu5LhnoxGXDo"
      },
      "source": [
        "# Unzipping the data\n",
        "At this point, you will have downloaded the data for the exercise from our gdrive. Upload it to Colab or set it up within the same folder the python files are in."
      ]
    },
    {
      "cell_type": "code",
      "execution_count": 1,
      "metadata": {
        "colab": {},
        "colab_type": "code",
        "id": "OpduH8ij8bo-"
      },
      "outputs": [
        {
          "name": "stdout",
          "output_type": "stream",
          "text": [
            "unzip:  cannot find or open data.zip, data.zip.zip or data.zip.ZIP.\n"
          ]
        }
      ],
      "source": [
        "!unzip -q data.zip"
      ]
    },
    {
      "cell_type": "markdown",
      "metadata": {
        "colab_type": "text",
        "id": "DhrocavcG1Pe"
      },
      "source": [
        "# Loading the data using the utils files\n",
        "In this specific example, we are loading the data from Domain A by specifying its root folder. \n",
        "Feel free to change the code in a way that best fit your approach."
      ]
    },
    {
      "cell_type": "code",
      "execution_count": 2,
      "metadata": {
        "colab": {},
        "colab_type": "code",
        "id": "LbZo8bS2-THn"
      },
      "outputs": [],
      "source": [
        "import data\n",
        "from utils import *\n",
        "import numpy as np\n",
        "\n",
        "domain = 'DomainA'\n",
        "path = './data/Training/' + domain\n",
        "data.set_root(path)"
      ]
    },
    {
      "cell_type": "markdown",
      "metadata": {
        "colab_type": "text",
        "id": "gcn-bA3kKhwf"
      },
      "source": [
        "# Loading and Visualizing the cases\n",
        "\n",
        "The final piece of code is to load one random slice and visualize it. Check the definition as you can specify a particular case and a particular slide to be shown. You can call this cell multiple time to visualize different slices."
      ]
    },
    {
      "cell_type": "code",
      "execution_count": null,
      "metadata": {
        "colab": {},
        "colab_type": "code",
        "id": "7IwUAdQF-aUJ"
      },
      "outputs": [],
      "source": [
        "\n",
        "dat,lbl = data.load(mode='train',get = 0)\n",
        "print(dat.shape)\n",
        "\n",
        "# for dat,lbl in dataa:\n",
        "imshow(dat, lbl=lbl if lbl.any() else None, title='DomainA')"
      ]
    },
    {
      "cell_type": "markdown",
      "metadata": {
        "colab_type": "text",
        "id": "p5PHTy2OK7mr"
      },
      "source": [
        "That's it!\n",
        "Enjoy the exercise. We're looking forward to your solution."
      ]
    }
  ],
  "metadata": {
    "colab": {
      "collapsed_sections": [],
      "name": "01_Introduction to Exercise Data.ipynb",
      "provenance": [],
      "version": "0.3.2"
    },
    "kernelspec": {
      "display_name": "Python 3",
      "name": "python3"
    },
    "language_info": {
      "codemirror_mode": {
        "name": "ipython",
        "version": 3
      },
      "file_extension": ".py",
      "mimetype": "text/x-python",
      "name": "python",
      "nbconvert_exporter": "python",
      "pygments_lexer": "ipython3",
      "version": "3.8.13"
    }
  },
  "nbformat": 4,
  "nbformat_minor": 0
}
